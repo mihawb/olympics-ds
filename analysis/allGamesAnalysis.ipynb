{
 "cells": [
  {
   "cell_type": "markdown",
   "id": "cab2668e",
   "metadata": {},
   "source": [
    "# Analiza wyników z nowożytnych Igrzysk Olimpijskich\n",
    "---\n",
    "Michał Banaszczak 311175"
   ]
  },
  {
   "cell_type": "markdown",
   "id": "2ed3fa17",
   "metadata": {},
   "source": [
    "#### Załadowanie potrzebnych bibliotek"
   ]
  },
  {
   "cell_type": "code",
   "execution_count": 1,
   "id": "2e14a84c",
   "metadata": {},
   "outputs": [],
   "source": [
    "import numpy as np\n",
    "import pandas as pd\n",
    "import seaborn as sns\n",
    "import matplotlib.pyplot as plt\n",
    "from skimage import io\n",
    "from skimage.color import rgb2gray\n",
    "from skimage.exposure import histogram"
   ]
  },
  {
   "cell_type": "markdown",
   "id": "04232e62",
   "metadata": {},
   "source": [
    "mega smieszne: dodac pole z kodem gdzie wywoluje allScores[sport='gaslighting'] i oczywiscie zwroci zero\n",
    "do tego dodac markdown \"jak widac nie ma na nowozytnych igrzyskach olimpijskich takiego sportu jak gaslighting. szkoda - mialbym szanse na zloto\""
   ]
  },
  {
   "cell_type": "code",
   "execution_count": null,
   "id": "73753b5c",
   "metadata": {},
   "outputs": [],
   "source": [
    "allScores = pd.read_excel('')"
   ]
  }
 ],
 "metadata": {
  "kernelspec": {
   "display_name": "Python 3",
   "language": "python",
   "name": "python3"
  },
  "language_info": {
   "codemirror_mode": {
    "name": "ipython",
    "version": 3
   },
   "file_extension": ".py",
   "mimetype": "text/x-python",
   "name": "python",
   "nbconvert_exporter": "python",
   "pygments_lexer": "ipython3",
   "version": "3.10.0"
  }
 },
 "nbformat": 4,
 "nbformat_minor": 5
}
